{
 "cells": [
  {
   "metadata": {},
   "cell_type": "markdown",
   "source": "#### 导入工具包",
   "id": "7bc2ae473dee5cf1"
  },
  {
   "metadata": {},
   "cell_type": "code",
   "outputs": [],
   "execution_count": null,
   "source": [
    "from imutils import contours\n",
    "import numpy as np\n",
    "import argparse\n",
    "import cv2\n",
    "import myutils"
   ],
   "id": "2d28cd10c517bfbd"
  },
  {
   "metadata": {},
   "cell_type": "markdown",
   "source": "#### 创建一个“参数解析器”对象。",
   "id": "25fbd12f51f49ded"
  },
  {
   "metadata": {},
   "cell_type": "markdown",
   "source": [
    "\n",
    "###### 像是初始化一个工具，这个工具专门用来定义你的程序需要哪些命令行参数，以及如何去解析这些参数。返回一个字典:{'image': 'my_card.png', 'template': 'ocr_a_font.png'}\n",
    "###### 需要给定该python文件的脚本形参，推荐使用绝对路径\n",
    "###### 在后面的代码里，你就可以通过 args[\"image\"] 和 args[\"template\"] 来轻松获取用户传入的文件路径了:"
   ],
   "id": "e62add16d2e63f4f"
  },
  {
   "metadata": {},
   "cell_type": "code",
   "outputs": [],
   "execution_count": null,
   "source": [
    "# 设置参数\n",
    "ap = argparse.ArgumentParser()\n",
    "ap.add_argument(\"-i\", \"--image\", required=True,\n",
    "\thelp=\"path to input image\")\n",
    "ap.add_argument(\"-t\", \"--template\", required=True,\n",
    "\thelp=\"path to template OCR-A image\")\n",
    "args = vars(ap.parse_args())"
   ],
   "id": "54e55255f662102e"
  },
  {
   "metadata": {},
   "cell_type": "markdown",
   "source": "##### 指定信用卡类型",
   "id": "2d1bd7e5d5abc0d2"
  },
  {
   "metadata": {},
   "cell_type": "code",
   "outputs": [],
   "execution_count": null,
   "source": [
    "# 指定信用卡类型\n",
    "FIRST_NUMBER = {\n",
    "\t\"3\": \"American Express\",\n",
    "\t\"4\": \"Visa\",\n",
    "\t\"5\": \"MasterCard\",\n",
    "\t\"6\": \"Discover Card\"\n",
    "}"
   ],
   "id": "748d126bae56df6a"
  },
  {
   "metadata": {},
   "cell_type": "markdown",
   "source": "##### 创建绘图展示函数：展示银行卡图像",
   "id": "b751c40aa6bf20cd"
  },
  {
   "metadata": {},
   "cell_type": "code",
   "outputs": [],
   "execution_count": null,
   "source": [
    "# 绘图展示\n",
    "def cv_show(name,img):\n",
    "\tcv2.imshow(name, img)\n",
    "\tcv2.waitKey(0)\n",
    "\tcv2.destroyAllWindows()"
   ],
   "id": "726fc20c6da8924a"
  },
  {
   "metadata": {},
   "cell_type": "markdown",
   "source": "##### 读取一个模板图像",
   "id": "266f415e2ccc267a"
  },
  {
   "metadata": {},
   "cell_type": "code",
   "outputs": [],
   "execution_count": null,
   "source": [
    "img = cv2.imdecode(np.fromfile(args[\"template\"], dtype=np.uint8), cv2.IMREAD_UNCHANGED)\n",
    "cv_show('img',img)"
   ],
   "id": "5fe15f833b8ad10f"
  },
  {
   "metadata": {},
   "cell_type": "markdown",
   "source": "##### 灰度图",
   "id": "afec0748a55d1997"
  },
  {
   "metadata": {},
   "cell_type": "code",
   "outputs": [],
   "execution_count": null,
   "source": [
    "ref = cv2.cvtColor(img, cv2.COLOR_BGR2GRAY)\n",
    "cv_show('ref',ref)"
   ],
   "id": "e82f7d5e6b2ac527"
  },
  {
   "metadata": {},
   "cell_type": "markdown",
   "source": " 二值图像",
   "id": "91fd6d3659130103"
  },
  {
   "metadata": {},
   "cell_type": "code",
   "outputs": [],
   "execution_count": null,
   "source": [
    "ref = cv2.threshold(ref, 10, 255, cv2.THRESH_BINARY_INV)[1]\n",
    "cv_show('ref',ref)"
   ],
   "id": "4c90ece9f4b46898"
  },
  {
   "metadata": {},
   "cell_type": "markdown",
   "source": [
    "##### 计算轮廓（得到图像轮廓信息）\n",
    "###### cv2.findContours()函数接受的参数为二值图，即黑白的（不是灰度图）,cv2.RETR_EXTERNAL只检测外轮廓，cv2.CHAIN_APPROX_SIMPLE只保留终点坐标返回的list中每个元素都是图像中的一个轮廓"
   ],
   "id": "cbb11016bc8a1f2b"
  },
  {
   "metadata": {},
   "cell_type": "code",
   "outputs": [],
   "execution_count": null,
   "source": [
    "refCnts, hierarchy = cv2.findContours(ref.copy(), cv2.RETR_EXTERNAL,cv2.CHAIN_APPROX_SIMPLE)\n",
    "#refCnts：得到图像的所有轮廓信息  ；hierarchy：一个包含轮廓层次结构信息的可选输出"
   ],
   "id": "443a92340d58d66b"
  },
  {
   "metadata": {},
   "cell_type": "markdown",
   "source": [
    "###### 返回：一个根据图像二值图获得的红色轮廓图像\n",
    "###### 重新将refCnts有顺序的进行排列\n",
    "###### 创建一个空字典，方便后续存储着所有识别出的数字图像，以便地通过索引来取用每一个数字的图像进行下一步处理"
   ],
   "id": "724677dd4b3c9e81"
  },
  {
   "metadata": {},
   "cell_type": "code",
   "outputs": [],
   "execution_count": null,
   "source": [
    "cv2.drawContours(img,refCnts,-1,(0,0,255),3)\n",
    "cv_show('img',img)\n",
    "#print (np.array(refCnts).shape)\n",
    "refCnts = myutils.sort_contours(refCnts, method=\"left-to-right\")[0]     #排序，从左到右，从上到下\n",
    "digits = {}"
   ],
   "id": "b9afd67387129592"
  },
  {
   "metadata": {},
   "cell_type": "markdown",
   "source": "遍历每一个轮廓，标准化图像尺寸，方便后续进行处理",
   "id": "96b585fa8e5e3207"
  },
  {
   "metadata": {},
   "cell_type": "code",
   "outputs": [],
   "execution_count": null,
   "source": [
    "for (i, c) in enumerate(refCnts):\n",
    "\t# 计算外接矩形并且resize成合适大小\n",
    "\t(x, y, w, h) = cv2.boundingRect(c)\n",
    "\troi = ref[y:y + h, x:x + w]\n",
    "\troi = cv2.resize(roi, (57, 88))\n",
    "\n",
    "\t# 每一个数字对应每一个模板\n",
    "\tdigits[i] = roi"
   ],
   "id": "725545f8aaa9c5ce"
  }
 ],
 "metadata": {
  "kernelspec": {
   "display_name": "Python 3",
   "language": "python",
   "name": "python3"
  },
  "language_info": {
   "codemirror_mode": {
    "name": "ipython",
    "version": 2
   },
   "file_extension": ".py",
   "mimetype": "text/x-python",
   "name": "python",
   "nbconvert_exporter": "python",
   "pygments_lexer": "ipython2",
   "version": "2.7.6"
  }
 },
 "nbformat": 4,
 "nbformat_minor": 5
}
