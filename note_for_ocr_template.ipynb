{
 "cells": [
  {
   "metadata": {},
   "cell_type": "code",
   "outputs": [],
   "execution_count": null,
   "source": [
    "# 导入工具包\n",
    "from imutils import contours\n",
    "import numpy as np\n",
    "import argparse\n",
    "import cv2\n",
    "import myutils"
   ],
   "id": "2d28cd10c517bfbd"
  },
  {
   "metadata": {},
   "cell_type": "markdown",
   "source": "#### 创建一个“参数解析器”对象。",
   "id": "25fbd12f51f49ded"
  },
  {
   "metadata": {},
   "cell_type": "markdown",
   "source": [
    "\n",
    "###### 像是初始化一个工具，这个工具专门用来定义你的程序需要哪些命令行参数，以及如何去解析这些参数。返回一个字典:{'image': 'my_card.png', 'template': 'ocr_a_font.png'}\n",
    "###### 在后面的代码里，你就可以通过 args[\"image\"] 和 args[\"template\"] 来轻松获取用户传入的文件路径了:"
   ],
   "id": "e62add16d2e63f4f"
  },
  {
   "metadata": {},
   "cell_type": "code",
   "outputs": [],
   "execution_count": null,
   "source": [
    "# 设置参数\n",
    "ap = argparse.ArgumentParser()\n",
    "ap.add_argument(\"-i\", \"--image\", required=True,\n",
    "\thelp=\"path to input image\")\n",
    "ap.add_argument(\"-t\", \"--template\", required=True,\n",
    "\thelp=\"path to template OCR-A image\")\n",
    "args = vars(ap.parse_args())"
   ],
   "id": "54e55255f662102e"
  },
  {
   "metadata": {},
   "cell_type": "markdown",
   "source": "",
   "id": "2d1bd7e5d5abc0d2"
  },
  {
   "metadata": {},
   "cell_type": "code",
   "outputs": [],
   "execution_count": null,
   "source": [
    "# 指定信用卡类型\n",
    "FIRST_NUMBER = {\n",
    "\t\"3\": \"American Express\",\n",
    "\t\"4\": \"Visa\",\n",
    "\t\"5\": \"MasterCard\",\n",
    "\t\"6\": \"Discover Card\"\n",
    "}"
   ],
   "id": "748d126bae56df6a"
  },
  {
   "metadata": {},
   "cell_type": "code",
   "outputs": [],
   "execution_count": null,
   "source": [
    "# 绘图展示\n",
    "def cv_show(name,img):\n",
    "\tcv2.imshow(name, img)\n",
    "\tcv2.waitKey(0)\n",
    "\tcv2.destroyAllWindows()"
   ],
   "id": "726fc20c6da8924a"
  }
 ],
 "metadata": {
  "kernelspec": {
   "display_name": "Python 3",
   "language": "python",
   "name": "python3"
  },
  "language_info": {
   "codemirror_mode": {
    "name": "ipython",
    "version": 2
   },
   "file_extension": ".py",
   "mimetype": "text/x-python",
   "name": "python",
   "nbconvert_exporter": "python",
   "pygments_lexer": "ipython2",
   "version": "2.7.6"
  }
 },
 "nbformat": 4,
 "nbformat_minor": 5
}
