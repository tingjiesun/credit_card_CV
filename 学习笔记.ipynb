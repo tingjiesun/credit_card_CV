{
 "cells": [
  {
   "metadata": {},
   "cell_type": "markdown",
   "source": "#### 代码思路",
   "id": "d2e530683c8a6fb6"
  },
  {
   "metadata": {},
   "cell_type": "markdown",
   "source": "创建数据/参数读取器（dataloader）\n",
   "id": "4e5d0dfe28e49a0f"
  }
 ],
 "metadata": {
  "kernelspec": {
   "display_name": "Python 3",
   "language": "python",
   "name": "python3"
  },
  "language_info": {
   "codemirror_mode": {
    "name": "ipython",
    "version": 2
   },
   "file_extension": ".py",
   "mimetype": "text/x-python",
   "name": "python",
   "nbconvert_exporter": "python",
   "pygments_lexer": "ipython2",
   "version": "2.7.6"
  }
 },
 "nbformat": 4,
 "nbformat_minor": 5
}
