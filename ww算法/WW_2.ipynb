{
 "cells": [
  {
   "metadata": {},
   "cell_type": "markdown",
   "source": [
    "\n",
    "# Wittrick-Williams算法的高级Python实现示例\n",
    "\n",
    "包含完整的**动力刚度矩阵计算**和更详细的测试用例:\n",
    "##### 这个示例展示了如何在实际工程中应用Wittrick-Williams算法\n"
   ],
   "id": "5367a201c8920fd7"
  },
  {
   "cell_type": "code",
   "execution_count": null,
   "id": "initial_id",
   "metadata": {
    "collapsed": true
   },
   "outputs": [],
   "source": [
    "import numpy as np\n",
    "import math\n",
    "from typing import List, Tuple, Optional\n",
    "from dataclasses import dataclass\n",
    "import matplotlib.pyplot as plt"
   ]
  },
  {
   "metadata": {},
   "cell_type": "markdown",
   "source": "#### 定义梁单元类型",
   "id": "4dba171186a06979"
  },
  {
   "metadata": {},
   "cell_type": "code",
   "outputs": [],
   "execution_count": null,
   "source": [
    "@dataclass\n",
    "class BeamElement:\n",
    "    \"\"\"梁单元类型定义（更完整版本）\"\"\"\n",
    "    element_id: int\n",
    "    node_i: int           # i结点编号\n",
    "    node_j: int           # j结点编号\n",
    "    length: float         # 单元长度\n",
    "    EA: float            # 轴向刚度\n",
    "    EI: float            # 弯曲刚度\n",
    "    mass_per_length: float  # 单位长度质量\n",
    "    cos_alpha: float = 0.0  # 方向余弦\n",
    "    sin_alpha: float = 0.0  # 方向正弦\n",
    "\n",
    "    def __post_init__(self):\n",
    "        \"\"\"计算派生属性\"\"\"\n",
    "        self.mass_total = self.mass_per_length * self.length  #梁单元重量"
   ],
   "id": "bfb41bfad2a98ad9"
  },
  {
   "metadata": {},
   "cell_type": "markdown",
   "source": "#### 定义“动力刚度矩阵计算类”，获得梁单元的局部坐标系下的刚度矩阵",
   "id": "8e7c80214990b6eb"
  },
  {
   "metadata": {},
   "cell_type": "code",
   "outputs": [],
   "execution_count": null,
   "source": [
    "class DynamicStiffnessMatrix:\n",
    "    \"\"\"动力刚度矩阵计算类\"\"\"\n",
    "\n",
    "    @staticmethod\n",
    "    def element_dynamic_stiffness(element: BeamElement, omega: float) -> np.ndarray:\n",
    "        \"\"\"\n",
    "        计算单个梁单元的动力刚度矩阵\n",
    "\n",
    "        Args:\n",
    "            element: 梁单元\n",
    "            omega: 圆频率 (rad/s)\n",
    "\n",
    "        Returns:\n",
    "            6x6动力刚度矩阵\n",
    "        \"\"\"\n",
    "        L = element.length\n",
    "        EA = element.EA\n",
    "        EI = element.EI\n",
    "        m = element.mass_per_length   # 单位长度质量\n",
    "\n",
    "        # 无量纲频率参数\n",
    "        omega_squared = omega ** 2\n",
    "        alpha_squared = omega_squared * m * L ** 4 / EI  # 弯曲频率参数\n",
    "        beta_squared = omega_squared * m * L ** 2 / EA   # 轴向频率参数\n",
    "\n",
    "        # 动力刚度矩阵系数\n",
    "        if alpha_squared > 1e-10:  # 避免数值问题\n",
    "            alpha = math.sqrt(alpha_squared)\n",
    "            s = math.sin(alpha)\n",
    "            c = math.cos(alpha)\n",
    "            sh = math.sinh(alpha)\n",
    "            ch = math.cosh(alpha)\n",
    "\n",
    "            # 弯曲动力刚度系数\n",
    "            denom = 2 * (1 - c * ch)\n",
    "            if abs(denom) < 1e-12:\n",
    "                # 接近共振频率时的处理\n",
    "                k11 = k22 = EI / L ** 3 * 12\n",
    "                k12 = k21 = EI / L ** 2 * 6\n",
    "            else:\n",
    "                k11 = k22 = EI / L ** 3 * alpha ** 4 * (s * sh) / denom\n",
    "                k12 = k21 = EI / L ** 2 * alpha ** 2 * (s * ch - c * sh) / denom\n",
    "        else:\n",
    "            # 静力刚度（低频近似）\n",
    "            k11 = k22 = 12 * EI / L ** 3\n",
    "            k12 = k21 = 6 * EI / L ** 2\n",
    "\n",
    "        # 轴向动力刚度\n",
    "        if beta_squared > 1e-10:\n",
    "            beta = math.sqrt(beta_squared)\n",
    "            k_axial = EA / L * beta / math.tan(beta)\n",
    "        else:\n",
    "            k_axial = EA / L\n",
    "\n",
    "        # 组装6x6动力刚度矩阵（局部坐标系）\n",
    "        K_local = np.zeros((6, 6))\n",
    "\n",
    "        # 轴向刚度\n",
    "        K_local[0, 0] = K_local[3, 3] = k_axial\n",
    "        K_local[0, 3] = K_local[3, 0] = -k_axial\n",
    "\n",
    "        # 弯曲刚度\n",
    "        K_local[1, 1] = K_local[4, 4] = k11\n",
    "        K_local[1, 4] = K_local[4, 1] = -k11\n",
    "        K_local[2, 2] = K_local[5, 5] = k22\n",
    "        K_local[2, 5] = K_local[5, 2] = k12\n",
    "        K_local[1, 2] = K_local[2, 1] = k12\n",
    "        K_local[4, 5] = K_local[5, 4] = k21\n",
    "        K_local[1, 5] = K_local[5, 1] = -k12\n",
    "        K_local[2, 4] = K_local[4, 2] = -k21\n",
    "\n",
    "        return K_local"
   ],
   "id": "cf75968b400a4b63"
  },
  {
   "metadata": {},
   "cell_type": "markdown",
   "source": "#### 计算坐标转换矩阵",
   "id": "12ab0138779be9f7"
  },
  {
   "metadata": {},
   "cell_type": "code",
   "outputs": [],
   "execution_count": null,
   "source": [
    "    @staticmethod  #静态方法装饰器，不需要访问实例属性或方法， 可以直接通过类名调用， 无需创建实例\n",
    "    def transformation_matrix(cos_alpha: float, sin_alpha: float) -> np.ndarray:\n",
    "        \"\"\"\n",
    "        计算坐标转换矩阵\n",
    "\n",
    "        Args:\n",
    "            cos_alpha: 方向余弦\n",
    "            sin_alpha: 方向正弦\n",
    "\n",
    "        Returns:\n",
    "            6x6转换矩阵\n",
    "        \"\"\"\n",
    "        T = np.zeros((6, 6))\n",
    "\n",
    "        # 2x2转换子矩阵\n",
    "        T_sub = np.array([[cos_alpha, sin_alpha],\n",
    "                         [-sin_alpha, cos_alpha]])\n",
    "\n",
    "        # 填充6x6矩阵\n",
    "        T[0:2, 0:2] = T_sub\n",
    "        T[2, 2] = 1.0\n",
    "        T[3:5, 3:5] = T_sub\n",
    "        T[5, 5] = 1.0\n",
    "\n",
    "        return T"
   ],
   "id": "6a276a06a408ca9"
  },
  {
   "metadata": {},
   "cell_type": "markdown",
   "source": "",
   "id": "a13c8c0e7e77534"
  }
 ],
 "metadata": {
  "kernelspec": {
   "display_name": "Python 3",
   "language": "python",
   "name": "python3"
  },
  "language_info": {
   "codemirror_mode": {
    "name": "ipython",
    "version": 2
   },
   "file_extension": ".py",
   "mimetype": "text/x-python",
   "name": "python",
   "nbconvert_exporter": "python",
   "pygments_lexer": "ipython2",
   "version": "2.7.6"
  }
 },
 "nbformat": 4,
 "nbformat_minor": 5
}
